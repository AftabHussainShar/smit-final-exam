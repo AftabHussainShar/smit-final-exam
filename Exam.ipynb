{
  "nbformat": 4,
  "nbformat_minor": 0,
  "metadata": {
    "colab": {
      "provenance": []
    },
    "kernelspec": {
      "name": "python3",
      "display_name": "Python 3"
    },
    "language_info": {
      "name": "python"
    }
  },
  "cells": [
    {
      "cell_type": "markdown",
      "source": [
        "# Question 01: File Analysis and Word Search"
      ],
      "metadata": {
        "id": "ONK9uHpSVJVw"
      }
    },
    {
      "cell_type": "code",
      "execution_count": 5,
      "metadata": {
        "colab": {
          "base_uri": "https://localhost:8080/"
        },
        "id": "gKbB2tK9UMTW",
        "outputId": "b9f1f500-b867-4c3d-d1da-8fb32cbc9e5d"
      },
      "outputs": [
        {
          "output_type": "stream",
          "name": "stdout",
          "text": [
            "Enter the path of the file to analyze: ./Demo.txt\n",
            "{'Lines': 1, 'Words': 3}\n"
          ]
        }
      ],
      "source": [
        "# 1. Write a Python function named analyze_file that takes the name of a\n",
        "# file as input and returns a dictionary containing the counts of characters,\n",
        "# words, and lines in that file.\n",
        "\n",
        "def analyze_file():\n",
        "    file_path = input(\"Enter the path of the file to analyze: \")\n",
        "    try:\n",
        "        with open(file_path, 'r') as file:\n",
        "            content = file.read()\n",
        "            lines = content.count('\\n') + 1\n",
        "            words = content.split()\n",
        "            num_words = len(words)\n",
        "            # return dictionary\n",
        "            dictionary = {\n",
        "                \"Lines\": lines,\n",
        "                \"Words\": num_words\n",
        "            }\n",
        "            return dictionary\n",
        "    except FileNotFoundError:\n",
        "        print(\"File not found. Please check the file path.\")\n",
        "        return\n",
        "\n",
        "if __name__ == \"__main__\":\n",
        "    dic= analyze_file()\n",
        "    print(dic)"
      ]
    },
    {
      "cell_type": "code",
      "source": [
        "# 2. Write another Python function named search_word that takes the name\n",
        "# of a file and a word as input and returns the count of occurrences of that\n",
        "# word in the file.\n",
        "word = ''\n",
        "def search_word():\n",
        "    file_path = input(\"Enter the path of the file: \")\n",
        "    word = input(\"Enter the word to search for: \")\n",
        "    try:\n",
        "        with open(file_path, 'r') as file:\n",
        "            content = file.read()\n",
        "            word_count = content.count(word)\n",
        "            return word_count,word\n",
        "    except FileNotFoundError:\n",
        "        print(\"File not found. Please check the file path.\")\n",
        "        return\n",
        "\n",
        "if __name__ == \"__main__\":\n",
        "    count,word = search_word()\n",
        "    print(f\"The word '{word}' appears {count} times in the file.\")\n"
      ],
      "metadata": {
        "colab": {
          "base_uri": "https://localhost:8080/"
        },
        "id": "lzwt28yJVTf_",
        "outputId": "7aea6142-197c-4676-81bb-f15d6e055b28"
      },
      "execution_count": 8,
      "outputs": [
        {
          "output_type": "stream",
          "name": "stdout",
          "text": [
            "Enter the path of the file: ./Demo.txt\n",
            "Enter the word to search for: Aftab\n",
            "The word 'Aftab' appears 3 times in the file.\n"
          ]
        }
      ]
    },
    {
      "cell_type": "code",
      "source": [
        "# 3. Ensure that your functions handle file not found errors gracefully and\n",
        "# return appropriate values in such cases.\n",
        "\n",
        "def read_file_content(file_path):\n",
        "    try:\n",
        "        with open(file_path, 'r') as file:\n",
        "            content = file.read()\n",
        "            return content\n",
        "    except FileNotFoundError:\n",
        "        print(f\"File '{file_path}' not found.\")\n",
        "        return None\n",
        "    except Exception as e:\n",
        "        print(f\"An error occurred: {e}\")\n",
        "        return None\n",
        "\n",
        "file_path = input(\"Enter the path of the file: \")\n",
        "content = read_file_content(file_path)\n",
        "if content is not None:\n",
        "    print(\"File content:\")\n",
        "    print(content)"
      ],
      "metadata": {
        "colab": {
          "base_uri": "https://localhost:8080/"
        },
        "id": "0S7jFHGmV5In",
        "outputId": "dc332549-a478-4a92-e03d-6983195dda25"
      },
      "execution_count": 9,
      "outputs": [
        {
          "output_type": "stream",
          "name": "stdout",
          "text": [
            "Enter the path of the file: ./Demo.txt\n",
            "File content:\n",
            "Aftab is here\n",
            "Aftab\n",
            "Here is Sukkur\n",
            "Aftab\n"
          ]
        }
      ]
    },
    {
      "cell_type": "markdown",
      "source": [
        "# Question 2: Library Management System using Python OOP"
      ],
      "metadata": {
        "id": "GWZMec6MmKNB"
      }
    },
    {
      "cell_type": "code",
      "source": [
        "class Library:\n",
        "    def __init__(self, name):\n",
        "        self.name = name\n",
        "        self.books = []\n",
        "        self.users = []\n",
        "\n",
        "    # add book\n",
        "    def add_book(self, book):\n",
        "        self.books.append(book)\n",
        "        print(f\"Book '{book.title}' added to the library.\")\n",
        "\n",
        "    # register user\n",
        "    def register_user(self, user):\n",
        "        self.users.append(user)\n",
        "        print(f\"User '{user.name}' registered successfully.\")\n",
        "\n",
        "    # lend book\n",
        "    def lend_book(self, user_id, isbn):\n",
        "        user = next((u for u in self.users if u.user_id == user_id), None)\n",
        "        book = next((b for b in self.books if b.isbn == isbn and not b.is_borrowed), None)\n",
        "\n",
        "        if user and book:\n",
        "            user.borrow_book(book)\n",
        "            print(f\"Book '{book.title}' has been lent to {user.name}.\")\n",
        "        else:\n",
        "            print(\"Either the user or the book is not found, or the book is already borrowed.\")\n",
        "\n",
        "    # receive return\n",
        "    def receive_return(self, user_id, isbn):\n",
        "        user = next((u for u in self.users if u.user_id == user_id), None)\n",
        "        book = next((b for b in self.books if b.isbn == isbn and b.is_borrowed), None)\n",
        "\n",
        "        if user and book:\n",
        "            user.return_book(book)\n",
        "            print(f\"Book '{book.title}' has been returned.\")\n",
        "        else:\n",
        "            print(\"Either the user or the book is not found, or the book was not borrowed.\")\n",
        "\n",
        "class Book:\n",
        "    def __init__(self, title, author, isbn):\n",
        "        self.title = title\n",
        "        self.author = author\n",
        "        self.isbn = isbn\n",
        "        self.is_borrowed = False\n",
        "\n",
        "    def borrow(self):\n",
        "        self.is_borrowed = True\n",
        "\n",
        "    def return_book(self):\n",
        "        self.is_borrowed = False\n",
        "\n",
        "\n",
        "class DigitalBook(Book):\n",
        "    def __init__(self, title, author, isbn, file_format):\n",
        "        super().__init__(title, author, isbn)\n",
        "        self.file_format = file_format\n",
        "\n",
        "    def borrow(self):\n",
        "        print(f\"The digital book '{self.title}' can be accessed online.\")\n",
        "        super().borrow()\n",
        "\n",
        "\n",
        "class AudioBook(Book):\n",
        "    def __init__(self, title, author, isbn, duration):\n",
        "        super().__init__(title, author, isbn)\n",
        "        self.duration = duration\n",
        "\n",
        "    def borrow(self):\n",
        "        print(f\"The audiobook '{self.title}' is available for streaming.\")\n",
        "        super().borrow()\n",
        "\n",
        "\n",
        "class User:\n",
        "    def __init__(self, user_id, name):\n",
        "        self.user_id = user_id\n",
        "        self.name = name\n",
        "        self.borrowed_books = []\n",
        "\n",
        "\n",
        "\n",
        "    def borrow_book(self, book):\n",
        "        if book not in self.borrowed_books:\n",
        "            self.borrowed_books.append(book)\n",
        "            book.borrow()\n",
        "\n",
        "    def return_book(self, book):\n",
        "        if book in self.borrowed_books:\n",
        "            self.borrowed_books.remove(book)\n",
        "            book.return_book()\n",
        "\n",
        "\n",
        "\n",
        "library = Library(\"Saylani Library\")\n",
        "\n",
        "while True:\n",
        "    print(\"\\nLibrary Management System (Saylani Mass IT)\")\n",
        "    print(\"1. Add Book\")\n",
        "    print(\"2. Register User\")\n",
        "    print(\"3. Lend Book\")\n",
        "    print(\"4. Receive Return\")\n",
        "    print(\"5. Exit\")\n",
        "\n",
        "    choice = input(\"Enter your choice: \")\n",
        "\n",
        "    if choice == '1':\n",
        "        title = input(\"Enter book title: \")\n",
        "        author = input(\"Enter author name: \")\n",
        "        isbn = input(\"Enter ISBN: \")\n",
        "        book_type = input(\"Is it a DigitalBook or AudioBook? (Enter 'digital' or 'audio' or 'normal'): \").strip().lower()\n",
        "\n",
        "        if book_type == 'digital':\n",
        "            file_format = input(\"Enter file format: \")\n",
        "            book = DigitalBook(title, author, isbn, file_format)\n",
        "        elif book_type == 'audio':\n",
        "            duration = float(input(\"Enter duration in hours: \"))\n",
        "            book = AudioBook(title, author, isbn, duration)\n",
        "        else:\n",
        "            book = Book(title, author, isbn)\n",
        "\n",
        "        library.add_book(book)\n",
        "\n",
        "    elif choice == '2':\n",
        "        user_id = input(\"Enter user ID: \")\n",
        "        name = input(\"Enter user name: \")\n",
        "        user = User(user_id, name)\n",
        "        library.register_user(user)\n",
        "\n",
        "    elif choice == '3':\n",
        "        user_id = input(\"Enter user ID: \")\n",
        "        isbn = input(\"Enter ISBN of the book to borrow: \")\n",
        "        library.lend_book(user_id, isbn)\n",
        "\n",
        "    elif choice == '4':\n",
        "        user_id = input(\"Enter user ID: \")\n",
        "        isbn = input(\"Enter ISBN of the book to return: \")\n",
        "        library.receive_return(user_id, isbn)\n",
        "\n",
        "    elif choice == '5':\n",
        "        print(\"Exiting the program.\")\n",
        "        break\n",
        "\n",
        "    else:\n",
        "        print(\"Invalid choice. Please try again.\")\n"
      ],
      "metadata": {
        "colab": {
          "base_uri": "https://localhost:8080/",
          "height": 1000
        },
        "id": "w3mYjLbnWQ9r",
        "outputId": "fc529a44-5285-4f26-b9b8-4c8a449b9244"
      },
      "execution_count": 41,
      "outputs": [
        {
          "output_type": "stream",
          "name": "stdout",
          "text": [
            "\n",
            "Library Management System (Saylani Mass IT)\n",
            "1. Add Book\n",
            "2. Register User\n",
            "3. Lend Book\n",
            "4. Receive Return\n",
            "5. Exit\n",
            "Enter your choice: 1\n",
            "Enter book title: Math\n",
            "Enter author name: aftab\n",
            "Enter ISBN: 123\n",
            "Is it a DigitalBook or AudioBook? (Enter 'digital' or 'audio' or 'normal'): normal\n",
            "Book 'Math' added to the library.\n",
            "\n",
            "Library Management System (Saylani Mass IT)\n",
            "1. Add Book\n",
            "2. Register User\n",
            "3. Lend Book\n",
            "4. Receive Return\n",
            "5. Exit\n",
            "Enter your choice: 1\n",
            "Enter book title: English\n",
            "Enter author name: Altaf\n",
            "Enter ISBN: 4321\n",
            "Is it a DigitalBook or AudioBook? (Enter 'digital' or 'audio' or 'normal'): audio\n",
            "Enter duration in hours: 122\n",
            "Book 'English' added to the library.\n",
            "\n",
            "Library Management System (Saylani Mass IT)\n",
            "1. Add Book\n",
            "2. Register User\n",
            "3. Lend Book\n",
            "4. Receive Return\n",
            "5. Exit\n",
            "Enter your choice: 2\n",
            "Enter user ID: 123\n",
            "Enter user name: Aftab\n",
            "User 'Aftab' registered successfully.\n",
            "\n",
            "Library Management System (Saylani Mass IT)\n",
            "1. Add Book\n",
            "2. Register User\n",
            "3. Lend Book\n",
            "4. Receive Return\n",
            "5. Exit\n",
            "Enter your choice: 3\n",
            "Enter user ID: 123\n",
            "Enter ISBN of the book to borrow: 4321\n",
            "The audiobook 'English' is available for streaming.\n",
            "Book 'English' has been lent to Aftab.\n",
            "\n",
            "Library Management System (Saylani Mass IT)\n",
            "1. Add Book\n",
            "2. Register User\n",
            "3. Lend Book\n",
            "4. Receive Return\n",
            "5. Exit\n"
          ]
        },
        {
          "output_type": "error",
          "ename": "KeyboardInterrupt",
          "evalue": "Interrupted by user",
          "traceback": [
            "\u001b[0;31m---------------------------------------------------------------------------\u001b[0m",
            "\u001b[0;31mKeyboardInterrupt\u001b[0m                         Traceback (most recent call last)",
            "\u001b[0;32m<ipython-input-41-dc527c17b701>\u001b[0m in \u001b[0;36m<cell line: 95>\u001b[0;34m()\u001b[0m\n\u001b[1;32m    101\u001b[0m     \u001b[0mprint\u001b[0m\u001b[0;34m(\u001b[0m\u001b[0;34m\"5. Exit\"\u001b[0m\u001b[0;34m)\u001b[0m\u001b[0;34m\u001b[0m\u001b[0;34m\u001b[0m\u001b[0m\n\u001b[1;32m    102\u001b[0m \u001b[0;34m\u001b[0m\u001b[0m\n\u001b[0;32m--> 103\u001b[0;31m     \u001b[0mchoice\u001b[0m \u001b[0;34m=\u001b[0m \u001b[0minput\u001b[0m\u001b[0;34m(\u001b[0m\u001b[0;34m\"Enter your choice: \"\u001b[0m\u001b[0;34m)\u001b[0m\u001b[0;34m\u001b[0m\u001b[0;34m\u001b[0m\u001b[0m\n\u001b[0m\u001b[1;32m    104\u001b[0m \u001b[0;34m\u001b[0m\u001b[0m\n\u001b[1;32m    105\u001b[0m     \u001b[0;32mif\u001b[0m \u001b[0mchoice\u001b[0m \u001b[0;34m==\u001b[0m \u001b[0;34m'1'\u001b[0m\u001b[0;34m:\u001b[0m\u001b[0;34m\u001b[0m\u001b[0;34m\u001b[0m\u001b[0m\n",
            "\u001b[0;32m/usr/local/lib/python3.10/dist-packages/ipykernel/kernelbase.py\u001b[0m in \u001b[0;36mraw_input\u001b[0;34m(self, prompt)\u001b[0m\n\u001b[1;32m    849\u001b[0m                 \u001b[0;34m\"raw_input was called, but this frontend does not support input requests.\"\u001b[0m\u001b[0;34m\u001b[0m\u001b[0;34m\u001b[0m\u001b[0m\n\u001b[1;32m    850\u001b[0m             )\n\u001b[0;32m--> 851\u001b[0;31m         return self._input_request(str(prompt),\n\u001b[0m\u001b[1;32m    852\u001b[0m             \u001b[0mself\u001b[0m\u001b[0;34m.\u001b[0m\u001b[0m_parent_ident\u001b[0m\u001b[0;34m,\u001b[0m\u001b[0;34m\u001b[0m\u001b[0;34m\u001b[0m\u001b[0m\n\u001b[1;32m    853\u001b[0m             \u001b[0mself\u001b[0m\u001b[0;34m.\u001b[0m\u001b[0m_parent_header\u001b[0m\u001b[0;34m,\u001b[0m\u001b[0;34m\u001b[0m\u001b[0;34m\u001b[0m\u001b[0m\n",
            "\u001b[0;32m/usr/local/lib/python3.10/dist-packages/ipykernel/kernelbase.py\u001b[0m in \u001b[0;36m_input_request\u001b[0;34m(self, prompt, ident, parent, password)\u001b[0m\n\u001b[1;32m    893\u001b[0m             \u001b[0;32mexcept\u001b[0m \u001b[0mKeyboardInterrupt\u001b[0m\u001b[0;34m:\u001b[0m\u001b[0;34m\u001b[0m\u001b[0;34m\u001b[0m\u001b[0m\n\u001b[1;32m    894\u001b[0m                 \u001b[0;31m# re-raise KeyboardInterrupt, to truncate traceback\u001b[0m\u001b[0;34m\u001b[0m\u001b[0;34m\u001b[0m\u001b[0m\n\u001b[0;32m--> 895\u001b[0;31m                 \u001b[0;32mraise\u001b[0m \u001b[0mKeyboardInterrupt\u001b[0m\u001b[0;34m(\u001b[0m\u001b[0;34m\"Interrupted by user\"\u001b[0m\u001b[0;34m)\u001b[0m \u001b[0;32mfrom\u001b[0m \u001b[0;32mNone\u001b[0m\u001b[0;34m\u001b[0m\u001b[0;34m\u001b[0m\u001b[0m\n\u001b[0m\u001b[1;32m    896\u001b[0m             \u001b[0;32mexcept\u001b[0m \u001b[0mException\u001b[0m \u001b[0;32mas\u001b[0m \u001b[0me\u001b[0m\u001b[0;34m:\u001b[0m\u001b[0;34m\u001b[0m\u001b[0;34m\u001b[0m\u001b[0m\n\u001b[1;32m    897\u001b[0m                 \u001b[0mself\u001b[0m\u001b[0;34m.\u001b[0m\u001b[0mlog\u001b[0m\u001b[0;34m.\u001b[0m\u001b[0mwarning\u001b[0m\u001b[0;34m(\u001b[0m\u001b[0;34m\"Invalid Message:\"\u001b[0m\u001b[0;34m,\u001b[0m \u001b[0mexc_info\u001b[0m\u001b[0;34m=\u001b[0m\u001b[0;32mTrue\u001b[0m\u001b[0;34m)\u001b[0m\u001b[0;34m\u001b[0m\u001b[0;34m\u001b[0m\u001b[0m\n",
            "\u001b[0;31mKeyboardInterrupt\u001b[0m: Interrupted by user"
          ]
        }
      ]
    },
    {
      "cell_type": "code",
      "source": [
        "# Test the system by creating instances of DigitalBook and AudioBook,\n",
        "# and by simulating\n",
        "digitalbook = DigitalBook(\"Digital Book Title\", \"Author Name\", \"ISBN123\", \"PDF\")\n",
        "audiobook = AudioBook(\"Audiobook Title\", \"Author Name\", \"ISBN456\", 3.5)"
      ],
      "metadata": {
        "id": "4HDE4wiTd-WV"
      },
      "execution_count": 28,
      "outputs": []
    }
  ]
}